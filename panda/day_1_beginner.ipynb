{
 "cells": [
  {
   "cell_type": "code",
   "execution_count": 1,
   "id": "8441c678",
   "metadata": {},
   "outputs": [
    {
     "name": "stdout",
     "output_type": "stream",
     "text": [
      "What is you name? sam\n",
      "Hello Sam !!!\n"
     ]
    }
   ],
   "source": [
    "name = input(\"What is you name? \")\n",
    "print(\"Hello\", name.title(), \"!!!\")"
   ]
  },
  {
   "cell_type": "code",
   "execution_count": 2,
   "id": "f367dfaa",
   "metadata": {},
   "outputs": [],
   "source": [
    "# Press \"Esc\" then \"l\" for line number"
   ]
  },
  {
   "cell_type": "code",
   "execution_count": 3,
   "id": "c5c464db",
   "metadata": {},
   "outputs": [
    {
     "name": "stdout",
     "output_type": "stream",
     "text": [
      "0\n",
      "1\n",
      "2\n",
      "3\n",
      "4\n",
      "===================================\n",
      "0\n",
      "1\n",
      "2\n",
      "3\n",
      "4\n",
      "5\n",
      "===================================\n",
      "1\n",
      "2\n",
      "3\n",
      "4\n",
      "5\n",
      "===================================\n",
      "[1, 2, 3, 4, 5]\n",
      "===================================\n"
     ]
    }
   ],
   "source": [
    "#print number 1 to 5 using for loop:/notice \n",
    "\n",
    "for number in range(5):\n",
    "    print(number)\n",
    "print(\"===================================\")\n",
    "\n",
    "for number in range(6):\n",
    "    print(number)\n",
    "print(\"===================================\")\n",
    "    \n",
    "for number in range(1,6):\n",
    "    print(number)\n",
    "print(\"===================================\")\n",
    "\n",
    "collection = []\n",
    "for number in range(1,6):\n",
    "    collection.append(number)\n",
    "print(collection)\n",
    "print(\"===================================\")\n",
    "\n",
    "# # doesnot work in jupyter\n",
    "# numbers = list(range(1, 6))\n",
    "#     print(numbers)\n",
    "# print(\"===================================\")\n"
   ]
  },
  {
   "cell_type": "code",
   "execution_count": 4,
   "id": "2824915a",
   "metadata": {},
   "outputs": [
    {
     "name": "stdout",
     "output_type": "stream",
     "text": [
      "I love cheeese pizza.\n",
      "I love hawaiian pizza.\n",
      "I love pepperoni pizza.\n",
      "I love all sorts of pizza especially pepperoni.\n"
     ]
    }
   ],
   "source": [
    "# 4-1. Pizzas: Think of at least three kinds of your favorite pizza. Store these\n",
    "# pizza names in a list, and then use a for loop to print the name of each pizza.\n",
    "# • Modify your for loop to print a sentence using the name of the pizza\n",
    "# instead of printing just the name of the pizza. For each pizza you should\n",
    "# have one line of output containing a simple statement like I like pepperoni\n",
    "# pizza.\n",
    "# • Add a line at the end of your program, outside the for loop, that states\n",
    "# how much you like pizza. The output should consist of three or more lines\n",
    "# about the kinds of pizza you like and then an additional sentence, such as\n",
    "# I really love pizza!\n",
    "\n",
    "pizzas = [\"cheeese\", \"hawaiian\", \"pepperoni\"]\n",
    "for pizza in pizzas:\n",
    "    print(f\"I love {pizza} pizza.\")\n",
    "print(\"I love all sorts of pizza especially pepperoni.\")"
   ]
  },
  {
   "cell_type": "code",
   "execution_count": 5,
   "id": "d3e9fe12",
   "metadata": {},
   "outputs": [
    {
     "name": "stdout",
     "output_type": "stream",
     "text": [
      "Dog is a social animal.\n",
      "Cat is a social animal.\n",
      "Rabbit is a social animal.\n",
      "Tortoise is a social animal.\n",
      "All of these animal will make a great pet\n"
     ]
    }
   ],
   "source": [
    "#4-2. Animals: Think of at least three different animals that have a common characteristic.\n",
    "# Store the names of these animals in a list, and then use a for loop to\n",
    "# print out the name of each animal.\n",
    "# • Modify your program to print a statement about each animal, such as\n",
    "# A dog would make a great pet.\n",
    "# • Add a line at the end of your program stating what these animals have in\n",
    "# common. You could print a sentence such as Any of these animals would\n",
    "# make a great pet!\n",
    "\n",
    "animals = [\"dog\", \"cat\", \"rabbit\", \"tortoise\"]\n",
    "for animal in animals:\n",
    "    print(animal.title(), \"is a social animal.\")\n",
    "print(\"All of these animal will make a great pet\")"
   ]
  },
  {
   "cell_type": "code",
   "execution_count": 6,
   "id": "43b9341e",
   "metadata": {},
   "outputs": [],
   "source": [
    "# # works in pycharm but not in jupiter ????\n",
    "# even_numbers = list(range(2,11,2))\n",
    "# print(even_numbers)"
   ]
  },
  {
   "cell_type": "code",
   "execution_count": 14,
   "id": "f75187c0",
   "metadata": {},
   "outputs": [
    {
     "name": "stdout",
     "output_type": "stream",
     "text": [
      "[1, 4, 9, 16, 25, 36, 49, 64, 81, 100]\n",
      "OR\n",
      "[1, 4, 9, 16, 25, 36, 49, 64, 81, 100]\n",
      "OR\n",
      "[1, 4, 9, 16, 25, 36, 49, 64, 81, 100]\n",
      "CUBES\n",
      "[1, 8, 27, 64, 125, 216, 343, 512, 729, 1000]\n"
     ]
    }
   ],
   "source": [
    "square_list = []\n",
    "for number in range(1, 11):\n",
    "    square = number**2\n",
    "    square_list.append(square)\n",
    "print(square_list)\n",
    "\n",
    "print(\"OR\")\n",
    "\n",
    "square_list = []\n",
    "for number in range(1, 11):\n",
    "    square_list.append(number**2)\n",
    "print(square_list)\n",
    "\n",
    "print(\"OR\")\n",
    "    \n",
    "squares = [value**2 for value in range(1, 11)]\n",
    "print(squares)\n",
    "\n",
    "# cubes\n",
    "print(\"CUBES\")\n",
    "cube_list = []\n",
    "for number in range(1, 11):\n",
    "    cube = number**3\n",
    "    cube_list.append(cube)\n",
    "print(cube_list)"
   ]
  },
  {
   "cell_type": "code",
   "execution_count": 8,
   "id": "88d66516",
   "metadata": {
    "scrolled": true
   },
   "outputs": [
    {
     "name": "stdout",
     "output_type": "stream",
     "text": [
      "0\n",
      "9\n",
      "45\n"
     ]
    }
   ],
   "source": [
    "digits = [1, 2, 3, 4, 5, 6, 7, 8, 9, 0]\n",
    "print(min(digits))\n",
    "print(max(digits))\n",
    "print(sum(digits))"
   ]
  },
  {
   "cell_type": "code",
   "execution_count": 9,
   "id": "f80336f6",
   "metadata": {},
   "outputs": [
    {
     "name": "stdout",
     "output_type": "stream",
     "text": [
      "1\n",
      "2\n",
      "3\n",
      "4\n",
      "5\n",
      "6\n",
      "7\n",
      "8\n",
      "9\n",
      "10\n",
      "11\n",
      "12\n",
      "13\n",
      "14\n",
      "15\n",
      "16\n",
      "17\n",
      "18\n",
      "19\n",
      "20\n"
     ]
    }
   ],
   "source": [
    "for number in range(1,21):\n",
    "    print(number)"
   ]
  },
  {
   "cell_type": "code",
   "execution_count": null,
   "id": "303ea59c",
   "metadata": {},
   "outputs": [],
   "source": []
  },
  {
   "cell_type": "code",
   "execution_count": null,
   "id": "8ab97608",
   "metadata": {},
   "outputs": [],
   "source": []
  }
 ],
 "metadata": {
  "kernelspec": {
   "display_name": "Python 3 (ipykernel)",
   "language": "python",
   "name": "python3"
  },
  "language_info": {
   "codemirror_mode": {
    "name": "ipython",
    "version": 3
   },
   "file_extension": ".py",
   "mimetype": "text/x-python",
   "name": "python",
   "nbconvert_exporter": "python",
   "pygments_lexer": "ipython3",
   "version": "3.9.13"
  }
 },
 "nbformat": 4,
 "nbformat_minor": 5
}
