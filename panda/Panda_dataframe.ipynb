{
 "cells": [
  {
   "cell_type": "code",
   "execution_count": 3,
   "id": "1fb380a3",
   "metadata": {},
   "outputs": [],
   "source": [
    "people = {\n",
    "    \"first_name\" : [\"Samir\", \"Sabina\", \"Devlal\", \"Sabin\"],\n",
    "    \"last_name\" : [\"Shrestha\", \"Maharjan\", \"Thechmi\", \"Maharjan\"],\n",
    "    \"address\" : [\"Anamnagar\", \"Baniyatar\", \"Ghattekulo\", \"Manamaiju\"]\n",
    "    \n",
    "}"
   ]
  },
  {
   "cell_type": "code",
   "execution_count": 5,
   "id": "c3705371",
   "metadata": {},
   "outputs": [
    {
     "data": {
      "text/plain": [
       "['Samir', 'Sabina', 'Devlal', 'Sabin']"
      ]
     },
     "execution_count": 5,
     "metadata": {},
     "output_type": "execute_result"
    }
   ],
   "source": [
    "people[\"first_name\"]"
   ]
  },
  {
   "cell_type": "code",
   "execution_count": 6,
   "id": "7055c05e",
   "metadata": {},
   "outputs": [
    {
     "data": {
      "text/plain": [
       "['Anamnagar', 'Baniyatar', 'Ghattekulo', 'Manamaiju']"
      ]
     },
     "execution_count": 6,
     "metadata": {},
     "output_type": "execute_result"
    }
   ],
   "source": [
    "people['address']"
   ]
  },
  {
   "cell_type": "code",
   "execution_count": 7,
   "id": "87d76705",
   "metadata": {},
   "outputs": [],
   "source": [
    "import pandas as pd"
   ]
  },
  {
   "cell_type": "code",
   "execution_count": 8,
   "id": "8b3c9087",
   "metadata": {},
   "outputs": [],
   "source": [
    "df = pd.DataFrame(people)"
   ]
  },
  {
   "cell_type": "code",
   "execution_count": 9,
   "id": "36c66089",
   "metadata": {},
   "outputs": [
    {
     "data": {
      "text/html": [
       "<div>\n",
       "<style scoped>\n",
       "    .dataframe tbody tr th:only-of-type {\n",
       "        vertical-align: middle;\n",
       "    }\n",
       "\n",
       "    .dataframe tbody tr th {\n",
       "        vertical-align: top;\n",
       "    }\n",
       "\n",
       "    .dataframe thead th {\n",
       "        text-align: right;\n",
       "    }\n",
       "</style>\n",
       "<table border=\"1\" class=\"dataframe\">\n",
       "  <thead>\n",
       "    <tr style=\"text-align: right;\">\n",
       "      <th></th>\n",
       "      <th>first_name</th>\n",
       "      <th>last_name</th>\n",
       "      <th>address</th>\n",
       "    </tr>\n",
       "  </thead>\n",
       "  <tbody>\n",
       "    <tr>\n",
       "      <th>0</th>\n",
       "      <td>Samir</td>\n",
       "      <td>Shrestha</td>\n",
       "      <td>Anamnagar</td>\n",
       "    </tr>\n",
       "    <tr>\n",
       "      <th>1</th>\n",
       "      <td>Sabina</td>\n",
       "      <td>Maharjan</td>\n",
       "      <td>Baniyatar</td>\n",
       "    </tr>\n",
       "    <tr>\n",
       "      <th>2</th>\n",
       "      <td>Devlal</td>\n",
       "      <td>Thechmi</td>\n",
       "      <td>Ghattekulo</td>\n",
       "    </tr>\n",
       "    <tr>\n",
       "      <th>3</th>\n",
       "      <td>Sabin</td>\n",
       "      <td>Maharjan</td>\n",
       "      <td>Manamaiju</td>\n",
       "    </tr>\n",
       "  </tbody>\n",
       "</table>\n",
       "</div>"
      ],
      "text/plain": [
       "  first_name last_name     address\n",
       "0      Samir  Shrestha   Anamnagar\n",
       "1     Sabina  Maharjan   Baniyatar\n",
       "2     Devlal   Thechmi  Ghattekulo\n",
       "3      Sabin  Maharjan   Manamaiju"
      ]
     },
     "execution_count": 9,
     "metadata": {},
     "output_type": "execute_result"
    }
   ],
   "source": [
    "df"
   ]
  },
  {
   "cell_type": "code",
   "execution_count": 14,
   "id": "c2eaad12",
   "metadata": {},
   "outputs": [
    {
     "data": {
      "text/plain": [
       "0     Anamnagar\n",
       "1     Baniyatar\n",
       "2    Ghattekulo\n",
       "3     Manamaiju\n",
       "Name: address, dtype: object"
      ]
     },
     "execution_count": 14,
     "metadata": {},
     "output_type": "execute_result"
    }
   ],
   "source": [
    "df[\"address\"]"
   ]
  },
  {
   "cell_type": "code",
   "execution_count": 17,
   "id": "9f9f80ef",
   "metadata": {},
   "outputs": [
    {
     "data": {
      "text/plain": [
       "0     Anamnagar\n",
       "1     Baniyatar\n",
       "2    Ghattekulo\n",
       "3     Manamaiju\n",
       "Name: address, dtype: object"
      ]
     },
     "execution_count": 17,
     "metadata": {},
     "output_type": "execute_result"
    }
   ],
   "source": [
    "df.address"
   ]
  },
  {
   "cell_type": "code",
   "execution_count": 16,
   "id": "249693bb",
   "metadata": {},
   "outputs": [
    {
     "data": {
      "text/plain": [
       "pandas.core.series.Series"
      ]
     },
     "execution_count": 16,
     "metadata": {},
     "output_type": "execute_result"
    }
   ],
   "source": [
    "type(df[\"address\"])"
   ]
  },
  {
   "cell_type": "code",
   "execution_count": 19,
   "id": "81f2edc7",
   "metadata": {},
   "outputs": [
    {
     "data": {
      "text/html": [
       "<div>\n",
       "<style scoped>\n",
       "    .dataframe tbody tr th:only-of-type {\n",
       "        vertical-align: middle;\n",
       "    }\n",
       "\n",
       "    .dataframe tbody tr th {\n",
       "        vertical-align: top;\n",
       "    }\n",
       "\n",
       "    .dataframe thead th {\n",
       "        text-align: right;\n",
       "    }\n",
       "</style>\n",
       "<table border=\"1\" class=\"dataframe\">\n",
       "  <thead>\n",
       "    <tr style=\"text-align: right;\">\n",
       "      <th></th>\n",
       "      <th>last_name</th>\n",
       "      <th>address</th>\n",
       "    </tr>\n",
       "  </thead>\n",
       "  <tbody>\n",
       "    <tr>\n",
       "      <th>0</th>\n",
       "      <td>Shrestha</td>\n",
       "      <td>Anamnagar</td>\n",
       "    </tr>\n",
       "    <tr>\n",
       "      <th>1</th>\n",
       "      <td>Maharjan</td>\n",
       "      <td>Baniyatar</td>\n",
       "    </tr>\n",
       "    <tr>\n",
       "      <th>2</th>\n",
       "      <td>Thechmi</td>\n",
       "      <td>Ghattekulo</td>\n",
       "    </tr>\n",
       "    <tr>\n",
       "      <th>3</th>\n",
       "      <td>Maharjan</td>\n",
       "      <td>Manamaiju</td>\n",
       "    </tr>\n",
       "  </tbody>\n",
       "</table>\n",
       "</div>"
      ],
      "text/plain": [
       "  last_name     address\n",
       "0  Shrestha   Anamnagar\n",
       "1  Maharjan   Baniyatar\n",
       "2   Thechmi  Ghattekulo\n",
       "3  Maharjan   Manamaiju"
      ]
     },
     "execution_count": 19,
     "metadata": {},
     "output_type": "execute_result"
    }
   ],
   "source": [
    "df[[\"last_name\", \"address\"]]"
   ]
  },
  {
   "cell_type": "code",
   "execution_count": 28,
   "id": "b62348e8",
   "metadata": {},
   "outputs": [
    {
     "data": {
      "text/plain": [
       "Index(['first_name', 'last_name', 'address'], dtype='object')"
      ]
     },
     "execution_count": 28,
     "metadata": {},
     "output_type": "execute_result"
    }
   ],
   "source": [
    "df.columns"
   ]
  },
  {
   "cell_type": "code",
   "execution_count": 32,
   "id": "889b7962",
   "metadata": {},
   "outputs": [
    {
     "data": {
      "text/plain": [
       "first_name       Sabina\n",
       "last_name      Maharjan\n",
       "address       Baniyatar\n",
       "Name: 1, dtype: object"
      ]
     },
     "execution_count": 32,
     "metadata": {},
     "output_type": "execute_result"
    }
   ],
   "source": [
    "# integer location \n",
    "df.iloc[1]"
   ]
  },
  {
   "cell_type": "code",
   "execution_count": 38,
   "id": "9ca94082",
   "metadata": {},
   "outputs": [
    {
     "data": {
      "text/html": [
       "<div>\n",
       "<style scoped>\n",
       "    .dataframe tbody tr th:only-of-type {\n",
       "        vertical-align: middle;\n",
       "    }\n",
       "\n",
       "    .dataframe tbody tr th {\n",
       "        vertical-align: top;\n",
       "    }\n",
       "\n",
       "    .dataframe thead th {\n",
       "        text-align: right;\n",
       "    }\n",
       "</style>\n",
       "<table border=\"1\" class=\"dataframe\">\n",
       "  <thead>\n",
       "    <tr style=\"text-align: right;\">\n",
       "      <th></th>\n",
       "      <th>first_name</th>\n",
       "      <th>last_name</th>\n",
       "      <th>address</th>\n",
       "    </tr>\n",
       "  </thead>\n",
       "  <tbody>\n",
       "    <tr>\n",
       "      <th>2</th>\n",
       "      <td>Devlal</td>\n",
       "      <td>Thechmi</td>\n",
       "      <td>Ghattekulo</td>\n",
       "    </tr>\n",
       "    <tr>\n",
       "      <th>3</th>\n",
       "      <td>Sabin</td>\n",
       "      <td>Maharjan</td>\n",
       "      <td>Manamaiju</td>\n",
       "    </tr>\n",
       "  </tbody>\n",
       "</table>\n",
       "</div>"
      ],
      "text/plain": [
       "  first_name last_name     address\n",
       "2     Devlal   Thechmi  Ghattekulo\n",
       "3      Sabin  Maharjan   Manamaiju"
      ]
     },
     "execution_count": 38,
     "metadata": {},
     "output_type": "execute_result"
    }
   ],
   "source": [
    "df.iloc[[2, 3]]"
   ]
  },
  {
   "cell_type": "code",
   "execution_count": 44,
   "id": "5e1178eb",
   "metadata": {},
   "outputs": [
    {
     "data": {
      "text/html": [
       "<div>\n",
       "<style scoped>\n",
       "    .dataframe tbody tr th:only-of-type {\n",
       "        vertical-align: middle;\n",
       "    }\n",
       "\n",
       "    .dataframe tbody tr th {\n",
       "        vertical-align: top;\n",
       "    }\n",
       "\n",
       "    .dataframe thead th {\n",
       "        text-align: right;\n",
       "    }\n",
       "</style>\n",
       "<table border=\"1\" class=\"dataframe\">\n",
       "  <thead>\n",
       "    <tr style=\"text-align: right;\">\n",
       "      <th></th>\n",
       "      <th>first_name</th>\n",
       "      <th>address</th>\n",
       "    </tr>\n",
       "  </thead>\n",
       "  <tbody>\n",
       "    <tr>\n",
       "      <th>1</th>\n",
       "      <td>Sabina</td>\n",
       "      <td>Baniyatar</td>\n",
       "    </tr>\n",
       "    <tr>\n",
       "      <th>3</th>\n",
       "      <td>Sabin</td>\n",
       "      <td>Manamaiju</td>\n",
       "    </tr>\n",
       "  </tbody>\n",
       "</table>\n",
       "</div>"
      ],
      "text/plain": [
       "  first_name    address\n",
       "1     Sabina  Baniyatar\n",
       "3      Sabin  Manamaiju"
      ]
     },
     "execution_count": 44,
     "metadata": {},
     "output_type": "execute_result"
    }
   ],
   "source": [
    "df.iloc[[1, 3], [0, 2]]"
   ]
  },
  {
   "cell_type": "code",
   "execution_count": 45,
   "id": "92776de4",
   "metadata": {},
   "outputs": [
    {
     "data": {
      "text/plain": [
       "1    Baniyatar\n",
       "3    Manamaiju\n",
       "Name: address, dtype: object"
      ]
     },
     "execution_count": 45,
     "metadata": {},
     "output_type": "execute_result"
    }
   ],
   "source": [
    "df.iloc[[1,3], 2]"
   ]
  },
  {
   "cell_type": "code",
   "execution_count": 50,
   "id": "e3316e7a",
   "metadata": {},
   "outputs": [
    {
     "data": {
      "text/plain": [
       "1    Sabina\n",
       "2    Devlal\n",
       "Name: first_name, dtype: object"
      ]
     },
     "execution_count": 50,
     "metadata": {},
     "output_type": "execute_result"
    }
   ],
   "source": [
    "df.loc[[1,2], \"first_name\"]"
   ]
  },
  {
   "cell_type": "code",
   "execution_count": 49,
   "id": "3f433d30",
   "metadata": {},
   "outputs": [
    {
     "data": {
      "text/plain": [
       "0    Shrestha\n",
       "1    Maharjan\n",
       "Name: last_name, dtype: object"
      ]
     },
     "execution_count": 49,
     "metadata": {},
     "output_type": "execute_result"
    }
   ],
   "source": [
    "df.loc[[0, 1], \"last_name\"]"
   ]
  },
  {
   "cell_type": "code",
   "execution_count": null,
   "id": "d0f32aa7",
   "metadata": {},
   "outputs": [],
   "source": []
  }
 ],
 "metadata": {
  "kernelspec": {
   "display_name": "Python 3 (ipykernel)",
   "language": "python",
   "name": "python3"
  },
  "language_info": {
   "codemirror_mode": {
    "name": "ipython",
    "version": 3
   },
   "file_extension": ".py",
   "mimetype": "text/x-python",
   "name": "python",
   "nbconvert_exporter": "python",
   "pygments_lexer": "ipython3",
   "version": "3.9.13"
  }
 },
 "nbformat": 4,
 "nbformat_minor": 5
}
