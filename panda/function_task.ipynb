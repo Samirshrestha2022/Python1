{
 "cells": [
  {
   "cell_type": "code",
   "execution_count": 1,
   "id": "6c1de6ab",
   "metadata": {},
   "outputs": [],
   "source": [
    "# my_rep(data, times) : repeat ram 10 times\n",
    "# data = []\n",
    "# data.append('ram')\n",
    "# data.append('sita')\n",
    "# data.append('ram') # the value is repeated."
   ]
  },
  {
   "cell_type": "code",
   "execution_count": 11,
   "id": "1a6f416d",
   "metadata": {},
   "outputs": [
    {
     "data": {
      "text/plain": [
       "'ram ram ram ram ram ram ram ram ram ram '"
      ]
     },
     "execution_count": 11,
     "metadata": {},
     "output_type": "execute_result"
    }
   ],
   "source": [
    "def my_rep(data, times):\n",
    "    return(data * times)\n",
    "my_rep(\"ram \", 10)\n"
   ]
  },
  {
   "cell_type": "code",
   "execution_count": 21,
   "id": "137925b6",
   "metadata": {},
   "outputs": [
    {
     "ename": "SyntaxError",
     "evalue": "'continue' not properly in loop (1262973217.py, line 8)",
     "output_type": "error",
     "traceback": [
      "\u001b[0;36m  File \u001b[0;32m\"/var/folders/ys/hffjmxvs0pjgschht39d8blm0000gn/T/ipykernel_22876/1262973217.py\"\u001b[0;36m, line \u001b[0;32m8\u001b[0m\n\u001b[0;31m    continue\u001b[0m\n\u001b[0m    ^\u001b[0m\n\u001b[0;31mSyntaxError\u001b[0m\u001b[0;31m:\u001b[0m 'continue' not properly in loop\n"
     ]
    }
   ],
   "source": [
    "data = []\n",
    "\n",
    "def new_list():\n",
    "    x = input(\"Enter the name: \")\n",
    "    if x != data:\n",
    "        data.append(x)\n",
    "        print(data)\n",
    "        continue\n",
    "    else:\n",
    "        print(\"The name is already in the list\")\n",
    "        break\n",
    "    \n",
    "new_list()    \n"
   ]
  },
  {
   "cell_type": "code",
   "execution_count": null,
   "id": "e6de054e",
   "metadata": {},
   "outputs": [],
   "source": []
  }
 ],
 "metadata": {
  "kernelspec": {
   "display_name": "Python 3 (ipykernel)",
   "language": "python",
   "name": "python3"
  },
  "language_info": {
   "codemirror_mode": {
    "name": "ipython",
    "version": 3
   },
   "file_extension": ".py",
   "mimetype": "text/x-python",
   "name": "python",
   "nbconvert_exporter": "python",
   "pygments_lexer": "ipython3",
   "version": "3.9.13"
  }
 },
 "nbformat": 4,
 "nbformat_minor": 5
}
